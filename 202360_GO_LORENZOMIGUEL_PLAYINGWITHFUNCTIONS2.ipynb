{
 "cells": [
  {
   "cell_type": "code",
   "execution_count": 122,
   "id": "a24132ee",
   "metadata": {},
   "outputs": [
    {
     "name": "stdout",
     "output_type": "stream",
     "text": [
      "Factorial of number: 10\n",
      "3628800\n"
     ]
    }
   ],
   "source": [
    "# PROBLEM 1_Factorial Problem\n",
    "\n",
    "def problem_1(number):\n",
    "    product_of_all = 1\n",
    "    for j in range(number,0,-1):\n",
    "        product_of_all = product_of_all*j\n",
    "    print(product_of_all)\n",
    "\n",
    "problem_1(int(input(\"Factorial of number: \")))"
   ]
  },
  {
   "cell_type": "code",
   "execution_count": 12,
   "id": "7588f445",
   "metadata": {},
   "outputs": [
    {
     "name": "stdout",
     "output_type": "stream",
     "text": [
      "Guess the name: chums\n",
      "1\n"
     ]
    }
   ],
   "source": [
    "# PROBLEM 2_Guessing Game\n",
    "\n",
    "def problem_2(passphrase):\n",
    "    guess = input(\"Guess the name: \")\n",
    "    counter = 1\n",
    "    while counter < 3 or guess==passphrase:\n",
    "        if guess != passphrase:\n",
    "            guess = input(\"Guess the name: \")\n",
    "            counter = counter +1\n",
    "            continue\n",
    "        else:\n",
    "            print(\"1\")\n",
    "            break\n",
    "    if counter == 3 and guess !=passphrase:\n",
    "        print(\"0\")\n",
    "\n",
    "problem_2(\"chums\")"
   ]
  },
  {
   "cell_type": "code",
   "execution_count": 3,
   "id": "57191d7d",
   "metadata": {},
   "outputs": [
    {
     "name": "stdout",
     "output_type": "stream",
     "text": [
      "What is the Temperature value? 300.01\n",
      "Original unit? Celsius\n",
      "Converted unit? Fahrenheit\n",
      "300.01 Celsius is equivalent to 572.02 Fahrenheit\n"
     ]
    }
   ],
   "source": [
    "# PROBLEM 3_Temperature Converter\n",
    "\n",
    "def problem_3(temp,original_format,new_format):\n",
    "    converted_value = temp\n",
    "    if original_format ==\"Celsius\":\n",
    "        if new_format == \"Fahrenheit\":\n",
    "            converted_value = (temp * 9 / 5) + 32\n",
    "        elif new_format == \"Kelvin\":\n",
    "            converted_value = (temp + 274.15)\n",
    "    elif original_format ==\"Fahrenheit\":\n",
    "        if new_format == \"Celsius\":\n",
    "            converted_value = (temp - 32) * 5 / 9\n",
    "        elif new_format == \"Kelvin\":\n",
    "            converted_value = (temp - 32) * 5 / 9 + 274.15\n",
    "    elif original_format ==\"Kelvin\":\n",
    "        if new_format == \"Celsius\":\n",
    "            converted_value = (temp - 274.15)\n",
    "        elif new_format == \"Fahrenheit\":\n",
    "            converted_value = (temp - 274.15) * 9 / 5 +32\n",
    "    print(f\"{temp} {original_format} is equivalent to {round(converted_value,2)} {new_format}\")\n",
    "\n",
    "problem_3(float(input(\"What is the Temperature value? \")), input(\"Original unit? \"), input(\"Converted unit? \"))"
   ]
  },
  {
   "cell_type": "code",
   "execution_count": 37,
   "id": "a9e8a46a",
   "metadata": {},
   "outputs": [
    {
     "name": "stdout",
     "output_type": "stream",
     "text": [
      "1P:15 / 25C:3 / 10C:0 / 5C:0 / 1C:1\n"
     ]
    }
   ],
   "source": [
    "# PROBLEM 4_Exact Change\n",
    "def problem_4 (amount):\n",
    "    piso = amount // 100\n",
    "    c25 = (amount - 100 * piso) // 25\n",
    "    c10 = (amount - 100 * piso - 25 * c25) // 10\n",
    "    c5 = (amount - 100 * piso - 25 * c25 - 10 * c10) // 5\n",
    "    c1 = (amount - 100 * piso - 25 * c25 - 10 * c10 - 5 * c5) // 1\n",
    "    print(f\"1P:{piso} / 25C:{c25} / 10C:{c10} / 5C:{c5} / 1C:{c1}\")\n",
    "\n",
    "problem_4(1576)"
   ]
  },
  {
   "cell_type": "code",
   "execution_count": 39,
   "id": "d451584a",
   "metadata": {},
   "outputs": [
    {
     "name": "stdout",
     "output_type": "stream",
     "text": [
      "aBcDefGHIJkL  mNOpQrSTUVwxYz"
     ]
    }
   ],
   "source": [
    "for i in \"AbCdEFghijKl  MnoPqRstuvWXyZ\":\n",
    "    if ord(i) == 32:\n",
    "        new_char = 32\n",
    "    elif ord(i)<95:\n",
    "        new_char = ord(i) + 32\n",
    "    elif ord(i)>95:\n",
    "        new_char = ord(i) - 32\n",
    "    print(chr(new_char), end=\"\")"
   ]
  },
  {
   "cell_type": "code",
   "execution_count": null,
   "id": "beceefb3",
   "metadata": {},
   "outputs": [],
   "source": []
  }
 ],
 "metadata": {
  "kernelspec": {
   "display_name": "Python 3",
   "language": "python",
   "name": "python3"
  },
  "language_info": {
   "codemirror_mode": {
    "name": "ipython",
    "version": 3
   },
   "file_extension": ".py",
   "mimetype": "text/x-python",
   "name": "python",
   "nbconvert_exporter": "python",
   "pygments_lexer": "ipython3",
   "version": "3.8.8"
  }
 },
 "nbformat": 4,
 "nbformat_minor": 5
}
