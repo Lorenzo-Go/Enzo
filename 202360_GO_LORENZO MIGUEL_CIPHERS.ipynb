{
 "cells": [
  {
   "cell_type": "code",
   "execution_count": 115,
   "id": "c4d0c0ba",
   "metadata": {},
   "outputs": [
    {
     "data": {
      "text/plain": [
       "'CUQCEHU'"
      ]
     },
     "execution_count": 115,
     "metadata": {},
     "output_type": "execute_result"
    }
   ],
   "source": [
    "def problem_1(message, shift):\n",
    "    decoded = \"\"\n",
    "    for i in message:\n",
    "        old_char = ord(i) + shift\n",
    "        while old_char > 90:\n",
    "            old_char = old_char - 26\n",
    "        if ord(i) == 32:\n",
    "            decoded += chr(ord(i))\n",
    "        else:\n",
    "            decoded += chr(old_char)\n",
    "    return decoded\n",
    "        \n",
    "problem_1(\"MEAMORE\", 42)"
   ]
  },
  {
   "cell_type": "code",
   "execution_count": 116,
   "id": "6657099f",
   "metadata": {},
   "outputs": [
    {
     "data": {
      "text/plain": [
       "'IRIANMOGFANEOT__'"
      ]
     },
     "execution_count": 116,
     "metadata": {},
     "output_type": "execute_result"
    }
   ],
   "source": [
    "def problem_2(message, shift):\n",
    "    decoded = \"\"\n",
    "    while len(message) % shift !=0:\n",
    "        message +=\"_\"\n",
    "    for number, i in enumerate(message):\n",
    "        y = lambda x: x [number // shift + (len(message) // shift * (number % shift))]\n",
    "        decoded += y(message)\n",
    "    return decoded\n",
    "\n",
    "problem_2(\"INFORMATION_AGE\", 4)"
   ]
  },
  {
   "cell_type": "code",
   "execution_count": 118,
   "id": "8cad22a7",
   "metadata": {},
   "outputs": [
    {
     "data": {
      "text/plain": [
       "'GINABL HT ETCUQ'"
      ]
     },
     "execution_count": 118,
     "metadata": {},
     "output_type": "execute_result"
    }
   ],
   "source": [
    "def problem_3(message, key):\n",
    "    decoded = \"\"\n",
    "    while len(message) != len(key):\n",
    "        for i in key:\n",
    "            key += i\n",
    "            if len(message) != len(key):\n",
    "                continue\n",
    "            else:\n",
    "                break\n",
    "    for letter1, letter2 in zip(message,key):\n",
    "        z = ord(letter2) - 65\n",
    "        new_char = ord(letter1) + z\n",
    "        while new_char>90:\n",
    "            new_char -= 26\n",
    "        if letter1==\" \":\n",
    "            decoded += letter1\n",
    "            continue\n",
    "        decoded += chr(new_char)        \n",
    "    return decoded\n",
    "\n",
    "problem_3(\"FOOBAR IS FUBAR\", \"BUZZ\")"
   ]
  },
  {
   "cell_type": "code",
   "execution_count": 119,
   "id": "bc3a5f37",
   "metadata": {},
   "outputs": [
    {
     "data": {
      "text/plain": [
       "'ALGORITHMS_ARE_IMPORTANT'"
      ]
     },
     "execution_count": 119,
     "metadata": {},
     "output_type": "execute_result"
    }
   ],
   "source": [
    "def problem_4(message, shift):\n",
    "    decoded = \"\"\n",
    "    true_count = len(message) - 1\n",
    "    for number, i in enumerate(message):\n",
    "        new_char = number * shift\n",
    "        while new_char > true_count:\n",
    "            new_char -= true_count\n",
    "        y = lambda x: x[new_char]\n",
    "        decoded += y(message)\n",
    "    return decoded\n",
    "\n",
    "problem_4(\"AOTSRIOALRH_EMRNGIMA_PTT\", 8)"
   ]
  },
  {
   "cell_type": "code",
   "execution_count": null,
   "id": "0f81ad59",
   "metadata": {},
   "outputs": [],
   "source": []
  }
 ],
 "metadata": {
  "kernelspec": {
   "display_name": "Python 3",
   "language": "python",
   "name": "python3"
  },
  "language_info": {
   "codemirror_mode": {
    "name": "ipython",
    "version": 3
   },
   "file_extension": ".py",
   "mimetype": "text/x-python",
   "name": "python",
   "nbconvert_exporter": "python",
   "pygments_lexer": "ipython3",
   "version": "3.8.8"
  }
 },
 "nbformat": 4,
 "nbformat_minor": 5
}
