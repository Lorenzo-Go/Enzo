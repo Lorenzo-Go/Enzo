{
 "cells": [
  {
   "cell_type": "code",
   "execution_count": 37,
   "id": "907438a4",
   "metadata": {},
   "outputs": [
    {
     "data": {
      "text/plain": [
       "3628800"
      ]
     },
     "execution_count": 37,
     "metadata": {},
     "output_type": "execute_result"
    }
   ],
   "source": [
    "# PROBLEM 1_Factorial Problem\n",
    "\n",
    "def problem_1(number):\n",
    "    product_of_all = 1\n",
    "    for j in range(number,0,-1):\n",
    "        product_of_all = product_of_all*j\n",
    "    return product_of_all\n",
    "\n",
    "problem_1(10)"
   ]
  },
  {
   "cell_type": "code",
   "execution_count": 14,
   "id": "01ad2610",
   "metadata": {},
   "outputs": [
    {
     "name": "stdout",
     "output_type": "stream",
     "text": [
      "joe\n",
      "earn\n",
      "niks\n"
     ]
    },
    {
     "data": {
      "text/plain": [
       "0"
      ]
     },
     "execution_count": 14,
     "metadata": {},
     "output_type": "execute_result"
    }
   ],
   "source": [
    "# PROBLEM 2_Guessing Game\n",
    "\n",
    "def problem_2(passphrase):\n",
    "    guess = \"\"\n",
    "    counter = 0\n",
    "    while counter < 3 or guess==passphrase:\n",
    "        if guess != passphrase:\n",
    "            guess = input()\n",
    "            counter = counter +1\n",
    "            continue\n",
    "        else:\n",
    "            return 1\n",
    "            break\n",
    "    if counter == 3 and guess !=passphrase:\n",
    "        return 0\n",
    "\n",
    "problem_2(\"annika\")"
   ]
  },
  {
   "cell_type": "code",
   "execution_count": 52,
   "id": "bf03f3fc",
   "metadata": {},
   "outputs": [
    {
     "data": {
      "text/plain": [
       "440.6"
      ]
     },
     "execution_count": 52,
     "metadata": {},
     "output_type": "execute_result"
    }
   ],
   "source": [
    "# PROBLEM 3_Temperature Converter\n",
    "\n",
    "def problem_3(temp,original_format,new_format):\n",
    "    converted_value = temp\n",
    "    if original_format ==\"Celsius\":\n",
    "        if new_format == \"Fahrenheit\":\n",
    "            converted_value = (temp * 9 / 5) + 32\n",
    "        elif new_format == \"Kelvin\":\n",
    "            converted_value = (temp + 273.0)\n",
    "    elif original_format ==\"Fahrenheit\":\n",
    "        if new_format == \"Celsius\":\n",
    "            converted_value = (temp - 32) * 5 / 9\n",
    "        elif new_format == \"Kelvin\":\n",
    "            converted_value = (temp - 32) * 5 / 9 + 273.0\n",
    "    elif original_format ==\"Kelvin\":\n",
    "        if new_format == \"Celsius\":\n",
    "            converted_value = (temp - 273.0)\n",
    "        elif new_format == \"Fahrenheit\":\n",
    "            converted_value = (temp - 273.0) * 9 / 5 + 32\n",
    "    return converted_value\n",
    "\n",
    "problem_3(500.0, \"Kelvin\", \"Fahrenheit\")"
   ]
  },
  {
   "cell_type": "code",
   "execution_count": 1,
   "id": "47b8b539",
   "metadata": {},
   "outputs": [
    {
     "data": {
      "text/plain": [
       "'1P:15/25C:3/10C:0/5C:0/1C:1'"
      ]
     },
     "execution_count": 1,
     "metadata": {},
     "output_type": "execute_result"
    }
   ],
   "source": [
    "# PROBLEM 4_Exact Change\n",
    "def problem_4(amount):\n",
    "    piso = amount // 100\n",
    "    c25 = (amount - 100 * piso) // 25\n",
    "    c10 = (amount - 100 * piso - 25 * c25) // 10\n",
    "    c5 = (amount - 100 * piso - 25 * c25 - 10 * c10) // 5\n",
    "    c1 = (amount - 100 * piso - 25 * c25 - 10 * c10 - 5 * c5) // 1\n",
    "    return f\"1P:{piso}/25C:{c25}/10C:{c10}/5C:{c5}/1C:{c1}\"\n",
    "\n",
    "problem_4(1576)"
   ]
  },
  {
   "cell_type": "code",
   "execution_count": 18,
   "id": "d9eb2d2e",
   "metadata": {},
   "outputs": [
    {
     "data": {
      "text/plain": [
       "'ASsIgNMenT'"
      ]
     },
     "execution_count": 18,
     "metadata": {},
     "output_type": "execute_result"
    }
   ],
   "source": [
    "def problem_5(message):\n",
    "    inverse_case =\"\"\n",
    "    for i in message:\n",
    "        if ord(i) == 32:\n",
    "            inverse_case += chr(32)\n",
    "        elif ord(i)<95:\n",
    "            inverse_case += chr(ord(i) + 32)\n",
    "        elif ord(i)>95:\n",
    "            inverse_case += chr(ord(i) - 32)\n",
    "    return inverse_case\n",
    "\n",
    "problem_5(\"asSiGnmENt\")"
   ]
  }
 ],
 "metadata": {
  "kernelspec": {
   "display_name": "Python 3",
   "language": "python",
   "name": "python3"
  },
  "language_info": {
   "codemirror_mode": {
    "name": "ipython",
    "version": 3
   },
   "file_extension": ".py",
   "mimetype": "text/x-python",
   "name": "python",
   "nbconvert_exporter": "python",
   "pygments_lexer": "ipython3",
   "version": "3.8.8"
  }
 },
 "nbformat": 4,
 "nbformat_minor": 5
}
